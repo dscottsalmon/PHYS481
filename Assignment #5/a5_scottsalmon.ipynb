{
 "cells": [
  {
   "cell_type": "markdown",
   "metadata": {},
   "source": [
    "# **PHYS 481 - Computational Physics II**\n",
    "\n",
    "## **Assignment #5 - Monte Carlo Methods**\n",
    "\n",
    "### **NAME:** Scott Salmon\n",
    "\n",
    "### **UCID:** 30093320\n",
    "\n",
    "### **FILE:** a5_scottsalmon\n",
    "\n",
    "### **DATES:** 2024/10/15 - 2024/10/17"
   ]
  },
  {
   "cell_type": "code",
   "execution_count": 17,
   "metadata": {},
   "outputs": [],
   "source": [
    "import numpy as np\n",
    "import matplotlib.pyplot as plt"
   ]
  },
  {
   "cell_type": "markdown",
   "metadata": {},
   "source": [
    "### Question 1: [8 pts]\n",
    "\n",
    "Andrew and Barbara are playing a game, in which 15 boxes are arranged in a grid as shown below.\n",
    "\n",
    "<img src=\"game grid.png\">\n",
    "\n",
    "\n",
    "Prizes are put into two (2) randomly chosen boxes. Andrew will search the boxes row by row, so his search order is ABCDEFGHIJKLMNO. \n",
    "Barbara will search column by column, so her order is AFKBGLCHMDINEJO. \n",
    "\n",
    "Andrew and Barbara open their boxes together on each turn; that is, on the first turn they both open A, on the second Andrew opens B \n",
    "while Barbara opens F, and so on.\n",
    "\n",
    "Who is more likely to find a prize first? Or are they both equally likely? [Question: Timothy\n",
    "Chow, reprinted in The Guardian, 2024]\n",
    "\n",
    "\n",
    "### a.  Take a guess. (No points, just for fun. It’s not very intuitive.)\n",
    "\n",
    " - I'm going to be boring and say that their likelihood of winning is going to be about 50%. If the prize is truly placed randomly, then every single time they open a box (regardless of order) they will have the same probability of opening the box with a prize in it. Therefore, they will both have an equal chance.\n",
    "\n",
    "\n",
    "### b. [4 pts] Write a Python code to simulate running the experiment at least 100 000 times. Find the 3 probabilities (i.e. Andrew wins, Barbara wins, or tie) with uncertainty estimates. Report your results as a table."
   ]
  },
  {
   "cell_type": "code",
   "execution_count": 18,
   "metadata": {},
   "outputs": [
    {
     "name": "stdout",
     "output_type": "stream",
     "text": [
      "Andrew won about 41.0% +/- 0.2% of the games, Barbara won about 37.2% +/- 0.2% of the games, and 21.8% +/- 0.1% of the games ended in a tie.        \n"
     ]
    }
   ],
   "source": [
    "def q1b(value):\n",
    "\n",
    "    '''Function used to solve question 1b. Takes in a iteration count value as a parameter.'''\n",
    "\n",
    "    #initializing game grids for player 1 and player 2.\n",
    "    player_1 = np.array( [[0,1,2,3,4], [5,6,7,8,9], [10,11,12,13,14]])\n",
    "    player_2 = np.transpose(player_1)\n",
    "    player_1, player_2 = player_1.flatten(), player_2.flatten()\n",
    "    \n",
    "    #initializing counter variables\n",
    "    tie_count, player_1_count, player_2_count = 0, 0, 0\n",
    "    \n",
    "    #looping 0-iteration number\n",
    "    for j in range(0,value):\n",
    "        \n",
    "        #selecting prize locations from 0-14\n",
    "        prize_1 = np.random.randint(0,15,1)\n",
    "        prize_2 = np.random.randint(0,15,1)\n",
    "\n",
    "        #checks prize locaations and rerolls prize 2 if its the same as prize 1\n",
    "        while prize_1 == prize_2:\n",
    "            prize_2 = np.random.randint(0,15,1)\n",
    "            \n",
    "        #initializes prize array and win condition booleans\n",
    "        prize = np.array([prize_1, prize_2])\n",
    "        winner, andrew_win, barbara_win = False, False, False\n",
    "        \n",
    "        #loops until somebody wins\n",
    "        i = 0\n",
    "        while(winner == False):\n",
    "            \n",
    "            #checks if andrew won each turn\n",
    "            if player_1[i] == prize[0] or player_1[i] == prize[1]:\n",
    "                andrew_win = True\n",
    "\n",
    "            #checks if barbara won each turn \n",
    "            if player_2[i] == prize[0] or player_2[i] == prize[1]:\n",
    "                barbara_win = True\n",
    "            \n",
    "            #checks if either of them won\n",
    "            if andrew_win == True or barbara_win == True:\n",
    "                winner = True\n",
    "                \n",
    "                #if both won, add to the tie counter\n",
    "                if andrew_win == True and barbara_win == True:\n",
    "                    tie_count += 1\n",
    "                \n",
    "                #else, if andrew one, add to his counter\n",
    "                elif andrew_win == True:\n",
    "                    player_1_count += 1\n",
    "                \n",
    "                #else, if barbara won, add to her counter\n",
    "                elif barbara_win == True:\n",
    "                    player_2_count += 1\n",
    "            i += 1\n",
    "\n",
    "    #calculates decimal probability values\n",
    "    player_1_prob = player_1_count/value\n",
    "    player_2_prob = player_2_count/value\n",
    "    tie_prob = tie_count/value\n",
    "    \n",
    "    #calculates uncertainty, converts it to a percentage\n",
    "    #u = sqrt( [p(1-p)] / N)\n",
    "    unc_player_1 = np.sqrt( (player_1_prob*(1-player_1_prob)) / value ) * 100\n",
    "    unc_player_2 = np.sqrt( (player_2_prob*(1-player_2_prob)) / value ) * 100\n",
    "    unc_tie = np.sqrt( (tie_prob*(1-tie_prob)) / value ) * 100\n",
    "    \n",
    "    #converts probability to percentages\n",
    "    player_1_perc = player_1_prob*100\n",
    "    player_2_perc = player_2_prob*100\n",
    "    tie_perc = tie_prob*100\n",
    "    \n",
    "    #print statement\n",
    "    print(\"Andrew won about %0.1f%% +/- %0.1f%% of the games, Barbara won about %0.1f%% +/- %0.1f%% of the games, and %0.1f%% +/- %0.1f%% of the games ended in a tie.\\\n",
    "        \"%(player_1_perc, unc_player_1, player_2_perc, unc_player_2, tie_perc, unc_tie))\n",
    "    \n",
    "q1b(100000)\n"
   ]
  },
  {
   "cell_type": "markdown",
   "metadata": {},
   "source": [
    "The print statement above will be whatever was the most recent simulation. The table below might not perfectly align with the statement because the winning % will be slightly different every time we run the code.\n",
    "\n",
    "|             | Andrew      | Barbara     | Tie       |\n",
    "| ----------- | ----------- | ----------- |----------- |\n",
    "| Winning %   | 41.0%       | 37.2%       | 21.8%      |\n",
    "| Uncertainty +/- %  | 0.2%    | 0.2%    | 0.1%   |\n",
    "\n",
    "Uncertainty is calculated using one standard deviation."
   ]
  },
  {
   "cell_type": "markdown",
   "metadata": {},
   "source": [
    "### c. [4 pts] There is a finite number of possible games (i.e. possible ways the prizes can be distributed). Simulate them all to find the exact odds of the 3 outcomes. Report your results as a table."
   ]
  },
  {
   "cell_type": "code",
   "execution_count": 19,
   "metadata": {},
   "outputs": [
    {
     "name": "stdout",
     "output_type": "stream",
     "text": [
      "The total amount of possible games is: 210\n",
      "\n",
      "Andrew wins exactly 40.952% of the games, Barbara wins exactly 37.143% of the games, and 21.905% of the games end in a tie.\n"
     ]
    }
   ],
   "source": [
    "def q1c():\n",
    "    \n",
    "    '''Function used to solve question 1c. No parameters required.'''\n",
    "\n",
    "    #initializing game grids for player 1 and player 2.\n",
    "    player_1 = np.array( [[0,1,2,3,4], [5,6,7,8,9], [10,11,12,13,14]])\n",
    "    player_2 = np.transpose(player_1)\n",
    "    player_1, player_2 = player_1.flatten(), player_2.flatten()\n",
    "    \n",
    "    #initializing counter variables\n",
    "    tie_count, player_1_count, player_2_count = 0, 0, 0\n",
    "    counter = 0\n",
    "\n",
    "    #loop sets the first prize to 0-14 each time its iterated\n",
    "    for j in range(0,15):\n",
    "        #loop sets the  second prize to 0-14 each time its iterated\n",
    "        for k in range(0,15):\n",
    "            \n",
    "            #if prize is in same spot for both, skip this iteration\n",
    "            if j == k:\n",
    "                continue\n",
    "            \n",
    "            else:\n",
    "                #sets prize array and initializes boolean win conditions\n",
    "                prize = [j,k]\n",
    "                winner, player_1_win, player_2_win = False, False, False\n",
    "                \n",
    "                #loops until somebody wins\n",
    "                i = 0\n",
    "                while(winner == False):\n",
    "                    \n",
    "                    #checks if andrew won each turn\n",
    "                    if player_1[i] == prize[0] or player_1[i] == prize[1]:\n",
    "                        player_1_win = True\n",
    "\n",
    "                    #checks f barbara won each turn \n",
    "                    if player_2[i] == prize[0] or player_2[i] == prize[1]:\n",
    "                        player_2_win = True\n",
    "                    \n",
    "                    #checks if either of them won\n",
    "                    if player_1_win == True or player_2_win == True:\n",
    "                        winner = True\n",
    "                        \n",
    "                        #if both won, add to the tie counter\n",
    "                        if player_1_win == True and player_2_win == True:\n",
    "                            tie_count += 1\n",
    "                        \n",
    "                        #else, if andrew one, add to his counter\n",
    "                        elif player_1_win == True:\n",
    "                            player_1_count += 1\n",
    "                        \n",
    "                        #else, if barbara won, add to her counter\n",
    "                        elif player_2_win == True:\n",
    "                            player_2_count += 1\n",
    "                    i += 1\n",
    "                \n",
    "                #counter variable is to track how many possible games there are\n",
    "                counter += 1\n",
    "\n",
    "    #calculates probabilities and converts them to percentages.\n",
    "    player_1_perc = player_1_count/counter*100\n",
    "    player_2_perc = player_2_count/counter*100\n",
    "    tie_perc = tie_count/counter*100\n",
    "    \n",
    "    #print statements\n",
    "    print(\"The total amount of possible games is: %i\\n\"%counter)\n",
    "    print(\"Andrew wins exactly %0.3f%% of the games, Barbara wins exactly %0.3f%% of the games, and %0.3f%% of the games end in a tie.\"%(player_1_perc, player_2_perc, tie_perc))\n",
    "    \n",
    "q1c()"
   ]
  },
  {
   "cell_type": "markdown",
   "metadata": {},
   "source": [
    "Unlike before in q1b, there are no uncertainty in these results since instead of simulating 100k games of random assortments and finding approximate winning percentage values, we simulated every game possible and found the exact winning percentage values."
   ]
  },
  {
   "cell_type": "markdown",
   "metadata": {},
   "source": [
    "|             | Andrew      | Barbara     | Tie       |\n",
    "| ----------- | ----------- | ----------- |-----------|\n",
    "| Winning %   | 40.952%     | 37.143%     | 21.905%   |\n"
   ]
  },
  {
   "cell_type": "markdown",
   "metadata": {},
   "source": [
    "### Question 2: [4 pts]\n",
    "\n",
    "Use Monte Carlo sampling to estimate the value of the following definite integral:\n",
    "\n",
    "$$\\int_0^{0.5} sin(e^{3x^2+1}) dx$$\n",
    "\n",
    "\n",
    "Solve to at least 3 significant figures and give the uncertainty in your answer. Report your results clearly (the TA must be able to clearly tell what your final answer is; don’t just bury it somewhere in your code).\n",
    "\n",
    "[NOTE: Monte Carlo methods are not efficient for simple 1d integrals like this. The point of this question is to set up techniques for more complicated problems.]"
   ]
  },
  {
   "cell_type": "code",
   "execution_count": 20,
   "metadata": {},
   "outputs": [
    {
     "name": "stdout",
     "output_type": "stream",
     "text": [
      "After using a Monte Carlo sampling method, the estimated value for the given integral is about -0.1117 +/- 0.0003.\n"
     ]
    }
   ],
   "source": [
    "def q2(a,b,N):\n",
    "    \n",
    "    '''Function that solves integral in question 2. Takes in the integration bounds for and b, and an integer amount of desired iterations for N.'''\n",
    "\n",
    "    #creates array of N points from a to b in random positions. Then puts those points into f(x). Then uses this to calculate integral.\n",
    "    x = np.random.uniform(a,b,N)\n",
    "    x_i = np.sin(np.exp(3*x**2+1))\n",
    "    I = (b-a)/N * np.sum(x_i)\n",
    "\n",
    "    #calculates standard deviation of the calculated function points to find sigma. Then uses sigma to get uncertainty.\n",
    "    sigma = np.std(x_i)\n",
    "    uncertainty = (sigma * (b-a)) / np.sqrt(N)\n",
    "\n",
    "    #print statement.\n",
    "    print(\"After using a Monte Carlo sampling method, the estimated value for the given integral is about %0.4f +/- %0.4f.\"%(I, uncertainty))\n",
    "\n",
    "#setting N to 1 million\n",
    "q2(0, 0.5, int(1e6)) "
   ]
  },
  {
   "cell_type": "markdown",
   "metadata": {},
   "source": [
    "### Question 3: [8 pts]\n",
    "\n",
    "Use Monte Carlo sampling to estimate the volume of a unit hypersphere of dimension 𝑛 up to 𝑛 =15. Plot the volume versus 𝑛 including 2𝜎 error bars and include the analytic result on the plot. The analytic result in recursive form is:\n",
    "\n",
    "$$\n",
    "V_n =\n",
    "\\begin{cases}\n",
    "1 & \\text{if } n = 0 \\\\\n",
    "2 & \\text{if } n = 1 \\\\\n",
    "\\frac{2\\pi}{n} V_{n-2} & \\text{otherwise}\n",
    "\\end{cases}\n",
    "$$\n",
    "\n",
    "\n",
    "Choose the number of Monte Carlo iterations for each simulation so that the error bars are small but at least some are visible on the graph."
   ]
  },
  {
   "cell_type": "code",
   "execution_count": 21,
   "metadata": {},
   "outputs": [
    {
     "name": "stdout",
     "output_type": "stream",
     "text": [
      "Loop Progess: 0.0% (Iteration number = 0)\n",
      "Loop Progess: 6.7% (Iteration number = 1)\n",
      "Loop Progess: 13.3% (Iteration number = 2)\n",
      "Loop Progess: 20.0% (Iteration number = 3)\n",
      "Loop Progess: 26.7% (Iteration number = 4)\n",
      "Loop Progess: 33.3% (Iteration number = 5)\n",
      "Loop Progess: 40.0% (Iteration number = 6)\n",
      "Loop Progess: 46.7% (Iteration number = 7)\n",
      "Loop Progess: 53.3% (Iteration number = 8)\n",
      "Loop Progess: 60.0% (Iteration number = 9)\n",
      "Loop Progess: 66.7% (Iteration number = 10)\n",
      "Loop Progess: 73.3% (Iteration number = 11)\n",
      "Loop Progess: 80.0% (Iteration number = 12)\n",
      "Loop Progess: 86.7% (Iteration number = 13)\n",
      "Loop Progess: 93.3% (Iteration number = 14)\n",
      "Loop Progess: 100.0% (Iteration number = 15)\n"
     ]
    },
    {
     "data": {
      "image/png": "[encoded data removed]",
      "text/plain": [
       "<Figure size 640x480 with 1 Axes>"
      ]
     },
     "metadata": {},
     "output_type": "display_data"
    }
   ],
   "source": [
    "def analytic():\n",
    "\n",
    "    '''This function calculates the analytic solution for the volume of a hypersphere.'''\n",
    "\n",
    "    #initializes volume array and sets n=0 and n=1\n",
    "    v = np.array([1, 2])\n",
    "\n",
    "    #for n=2 to n=15, loop.\n",
    "    for n in range(2,16):\n",
    "\n",
    "        #v_n = given function, then add to volume list.\n",
    "        v_n = 2*np.pi * v[n-2] / n\n",
    "        v = np.append(v, v_n)\n",
    "    return v\n",
    "\n",
    "def monte_carlo():\n",
    "\n",
    "    #initializing storage arrays\n",
    "    v = np.array([])\n",
    "    u = np.array([])\n",
    "\n",
    "    #loops from n=0 to n=15\n",
    "    for n in range(0,16):\n",
    "        #set number of iterations, scaling with the number of dimensions\n",
    "        iterations = 100 + 25000 * n \n",
    "        count_inside = 0\n",
    "        for i in range(iterations):\n",
    "            \n",
    "            #this makes a point of n dimensions with each value being between -1 and 1. so say n = 6, then the point will have an x,y,z,a,b,c coordinate system, and all \n",
    "            #of those coordinates will be between -1 and 1.\n",
    "            point = np.random.uniform(-1, 1, n)\n",
    "            \n",
    "            #say n=3, then this is saying if x^2 + y^2 + z^2 <=1, then the point is inside the hypersphere. Otherwise, its not.\n",
    "            if np.sum(point**2) <= 1:\n",
    "                count_inside += 1\n",
    "        \n",
    "        #2^n is the volume of a hypercube, if we multiply the ratio of the points inside/total points with this volume then we will get volume of hypersphere\n",
    "        estimated_volume = (count_inside / iterations) * 2**n\n",
    "        \n",
    "        p = count_inside / iterations\n",
    "        two_sigma = 2 * np.sqrt(p * (1 - p) / iterations) * 2**n  # Standard error\n",
    "        \n",
    "        #adds calculated values to volume and uncertainty lists\n",
    "        v = np.append(v, estimated_volume)\n",
    "        u = np.append(u, two_sigma)\n",
    "        \n",
    "        #loop progress print statement because this algorithm takes awhile\n",
    "        print(\"Loop Progess: %0.1f%% (Iteration number = %i)\"%(n/15*100, n))\n",
    "        \n",
    "    return v, u\n",
    "\n",
    "#getting our analytic and calculated y values\n",
    "y1 = analytic()\n",
    "y2, u2 = monte_carlo()\n",
    "\n",
    "#plotting instructions\n",
    "plt.figure()\n",
    "plt.scatter(range(0,16), y1, color = 'red', label='Analytical Volume')\n",
    "plt.errorbar(range(0,16), y2, u2, fmt='o', linewidth=2, capsize=6, label=\"Numerical Volume with error\\n(one standard deviation)\")\n",
    "plt.legend(loc = 'upper right')\n",
    "plt.title(\"Volume of the Hypersphere as a function of dimensionality\")\n",
    "plt.xlabel('n (dimension number)')\n",
    "plt.ylabel('Volume (arbitrary units)')\n",
    "plt.grid('True')\n"
   ]
  },
  {
   "cell_type": "markdown",
   "metadata": {},
   "source": [
    "### Question 4: [9 pts]\n",
    "\n",
    "Define the radius 𝑟 in 𝑛 dimensions as $$r = \\sqrt{ \\sum^n_{i=1} x_i^2 } $$\n",
    "\n",
    "\n",
    "a. [4 pts] Calculate the integral $\\int 𝑟(𝑥_𝑖)𝑑^𝑛𝑥$ over the unit hypercube (extending from 0 to 1 in each dimension) in 3, 4, 10 and 100 dimensions using a simple Monte Carlo integration. Report the standard uncertainty for each estimate, and make sure it’s less than 0.1% of the value. Display your results as a table."
   ]
  },
  {
   "cell_type": "code",
   "execution_count": 22,
   "metadata": {},
   "outputs": [
    {
     "name": "stdout",
     "output_type": "stream",
     "text": [
      "The integral in 3 dimensions is equal to 0.9608 +/- 0.0003.\n",
      "The integral in 4 dimensions is equal to 1.1218 +/- 0.0003.\n",
      "The integral in 10 dimensions is equal to 1.8066 +/- 0.0003.\n",
      "The integral in 100 dimensions is equal to 5.7675 +/- 0.0003.\n"
     ]
    }
   ],
   "source": [
    "def q4(n, points, max_volume):\n",
    "    \n",
    "    '''Function takes in a dimension number, the desired amount of points, and the maximum volume of the hypercube. it outputs the result of the integral.'''\n",
    "\n",
    "    #makes array that is n*points long filled with random values, scaled by maximum volume\n",
    "    samples = np.random.rand(n*points)*max_volume\n",
    "    \n",
    "    #reshapes array to make n rows and points columns, and fills it with samples sequentially\n",
    "    #so for example, samples[6] before is now samples[0][6]. similarily, samples[-1] = samples[2][-1] for n = 3.\n",
    "    samples = np.reshape(samples,(n,points))\n",
    "\n",
    "    #calculates r(x_i) using new samples array. Axis=0 means values are being summed via column\n",
    "    #so for example np.sum([[1,2,3], [4,5,6],[7,8,9]], axis=0) = [ (1+4+7), (2+5+8), (3+6+9)] = [12, 15, 18]\n",
    "    r = np.sqrt(np.sum(samples**2, axis=0))\n",
    "\n",
    "    #calculates integral and uncertainty\n",
    "    volume = max_volume**n\n",
    "    integral = np.mean(r) * volume\n",
    "    uncertainty = np.std(r)/np.sqrt(points) * volume\n",
    "\n",
    "    return integral,uncertainty\n",
    "\n",
    "#sets points to 1 million to ensure less then 0.1% uncertainty\n",
    "points=int(1e6)\n",
    "\n",
    "#calls function q4 for various dimensions.\n",
    "for n in [3, 4, 10, 100]:\n",
    "    integral,uncertainty = q4(n, points, 1.0)\n",
    "    print(\"The integral in %i dimensions is equal to %0.4f +/- %0.4f.\"%(n, integral, uncertainty))"
   ]
  },
  {
   "cell_type": "markdown",
   "metadata": {},
   "source": [
    "| Dimension number | Integral value |\n",
    "|-----------------|----------|\n",
    "| 3 | 0.9600 +/- 0.0003 |\n",
    "| 4 | 1.1222 +/- 0.0003 |\n",
    "| 10 | 1.8067 +/- 0.0003 |\n",
    "| 100 | 5.7676 +/- 0.0003|\n",
    "\n",
    "Uncertainty is calculated using one standard deviation.\n",
    "\n",
    "### b. [4 pts] Repeat part a over the cube extending from 0 to 2 in each dimension."
   ]
  },
  {
   "cell_type": "code",
   "execution_count": 23,
   "metadata": {},
   "outputs": [
    {
     "name": "stdout",
     "output_type": "stream",
     "text": [
      "The integral in 3 dimensions is equal to 15.3665 +/- 0.0044.\n",
      "The integral in 4 dimensions is equal to 35.8964 +/- 0.0088.\n",
      "The integral in 10 dimensions is equal to 3700.3222 +/- 0.5406.\n",
      "The integral in 100 dimensions is equal to 1.46223e+31 +/- 6.6e+26.\n"
     ]
    }
   ],
   "source": [
    "#calls function q4 for various dimensions. adjusted the maximum volume to 2.0.\n",
    "for n in [3,4,10,100]:\n",
    "\n",
    "    integral,uncertainty = q4(n,points, 2.0)\n",
    "\n",
    "    #if statement changes print statement to exponential format when it becomes very big.\n",
    "    if integral < 5000:\n",
    "        print(\"The integral in %i dimensions is equal to %0.4f +/- %0.4f.\"%(n, integral, uncertainty))\n",
    "    else:\n",
    "        print(\"The integral in %i dimensions is equal to %0.5e +/- %0.1e.\"%(n, integral, uncertainty))"
   ]
  },
  {
   "cell_type": "markdown",
   "metadata": {},
   "source": [
    "| Dimension number | Integral value |\n",
    "|-----------------|----------|\n",
    "| 3 | 15.370 +/- 0.004 |\n",
    "| 4 | 35.894 +/- 0.009 |\n",
    "| 10 | 3700.2 +/- 0.5 |\n",
    "| 100 | (1.46231 +/- 0.00007) * $10^{31}$ |\n",
    "\n",
    "Uncertainty is calculated using one standard deviation.\n",
    "\n",
    "### c. [1 pt] If you tried to do part a using a more conventional numerical integration scheme (e.g.rectangle rule or midpoint rule) sampled on a regular grid, what problem would you run into?\n",
    "\n",
    "- You could probably try for 3rd or 4th dimension, but good luck figuring out the coefficients for a midpoint method for a much higher dimension like 10 (let alone 100). It'd also require a ton of memory to do a conventional integration scheme, because you'd be simulating an unfathomable amount of points compared to a monte carlo sampling method."
   ]
  }
 ],
 "metadata": {
  "kernelspec": {
   "display_name": "Python 3",
   "language": "python",
   "name": "python3"
  },
  "language_info": {
   "codemirror_mode": {
    "name": "ipython",
    "version": 3
   },
   "file_extension": ".py",
   "mimetype": "text/x-python",
   "name": "python",
   "nbconvert_exporter": "python",
   "pygments_lexer": "ipython3",
   "version": "3.12.7"
  }
 },
 "nbformat": 4,
 "nbformat_minor": 2
}
