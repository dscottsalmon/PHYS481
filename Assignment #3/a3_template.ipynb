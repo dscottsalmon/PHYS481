{
 "cells": [
  {
   "cell_type": "markdown",
   "metadata": {},
   "source": [
    "# **PHYS 481 - Computational Physics II**\n",
    "\n",
    "## **Assignment #3 - ODEs**\n",
    "\n",
    "### **NAME:** \n",
    "\n",
    "### **UCID:** \n",
    "\n",
    "### **FILE:** \n",
    "\n",
    "### **DATES:** \n",
    "\n",
    "\n",
    "### Question 1\n",
    "a. [1 pt] For the equation $𝑦^{′′} + sin(𝑡) + 1 = 0$  write down the set of first-order ODEs in terms of\n",
    "the state vector $𝑆 = [𝑦, 𝑦^′]^𝑇$ (see notes, or chapter 22). This is only about 1 or 2 lines. (Don’t\n",
    "overthink it!)\n",
    "\n",
    "b. [8 pts] Write a general function to integrate second-order ODEs using Euler’s method. The\n",
    "function should accept a function $𝐹 = \\frac{𝑑𝑆}{𝑑𝑡}$ (which depends on 𝑆 and 𝑡), an interval, an initial\n",
    "value vector 𝑆 and a number of steps to integrate. It should return the step points 𝑥𝑛 and the\n",
    "solution to the ODE 𝑦𝑛 at all the step points. Use it to integrate the ODE from part a on the\n",
    "interval $[0, 2𝜋]$ with the initial values $𝑦(0) = 0$ and $𝑦^′(0) = 1$. Compare the results using different\n",
    "numbers of steps and compare to the analytic result $𝑦 = 𝑐_1 + 𝑐_2𝑥 − \\frac{𝑥^2}{2} + sin (𝑥)$.\n",
    "\n",
    "c. [8 pts] Repeat part b but use RK4 integration instead of Euler’s method.\n",
    "\n",
    "d. [1 pt] Using Euler’s method in part b, each step yields a new value (at $𝑡_𝑛$) that is systematically\n",
    "too large. Why? [Hint: What order of accuracy is Euler’s method? Where does the error come\n",
    "from? Does that error have a consistent sign?]."
   ]
  },
  {
   "cell_type": "markdown",
   "metadata": {},
   "source": [
    "\n",
    "---------\n",
    "\n",
    "### Question 2\n",
    "\n",
    "[8 pts] For $𝑦^{′′} + sin(𝑡) + 1 = 0$ (same ODE as in question 1) and the boundary values $𝑦(0) = 0$\n",
    "  and $𝑦 (2𝜋) = 1$, use a shooting method to solve the equation on the interval $[0, 2𝜋]$. Compare to\n",
    "the analytic result.\n",
    "\n",
    "b. [8 pts] Repeat question a using a finite difference method with a varying number of grid points\n",
    "$(5,10,20,50)$"
   ]
  },
  {
   "cell_type": "markdown",
   "metadata": {},
   "source": [
    "\n",
    "---------\n",
    "\n",
    "### Question 3\n",
    "\n",
    "The deflection 𝑦(𝑥) of a 1-D beam is governed by the following ODE:\n",
    "\n",
    "$$𝐸𝐼 \\frac{𝑑^2𝑦}{𝑑𝑥^2} = \\frac{1}{2} 𝜔_0(𝐿𝑥 − 𝑥^2) \\Bigg[1 + \\bigg(\\frac{𝑑𝑦}{𝑑𝑥}\\bigg)^2\\Bigg]^{3/2} $$\n",
    "\n",
    "where:\n",
    "- $𝐸𝐼$ is a parameter known as the “flexural rigidity” that depends on the material and its cross-section\n",
    "- $𝐿$ is the length of the beam\n",
    "- $𝜔_0$ is the load per unit length applied to the beam\n",
    "\n",
    "If $𝐿 = 5$ m,   $𝐸𝐼 = 1.8 × 107$   $Nm^2$,   $𝜔_0 = 1.5 × 104 \\frac{N}{m}$ and $𝑦(0) = 𝑦(𝐿) = 0$, find the beam deflection $𝑦(𝑥)$ on the interval $[0, 𝐿]$. \n",
    "\n",
    "[https://pythonnumericalmethods.berkeley.edu/notebooks/chapter23.06-Summary-and-Problems.html question 10"
   ]
  }
 ],
 "metadata": {
  "language_info": {
   "name": "python"
  }
 },
 "nbformat": 4,
 "nbformat_minor": 2
}
